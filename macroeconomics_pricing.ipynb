{
 "cells": [
  {
   "metadata": {
    "trusted": true
   },
   "cell_type": "code",
   "source": "import pandas as pd\nfrom fredapi import Fred\nimport json\nimport yfinance as yf\nimport os\nimport numpy as np\nimport matplotlib.pyplot as plt\nimport seaborn as sns\nimport warnings\nimport logging\nfrom sklearn.preprocessing import PolynomialFeatures,StandardScaler\nfrom sklearn.linear_model import Ridge\nfrom sklearn.model_selection import GridSearchCV,train_test_split,TimeSeriesSplit\nfrom sklearn.pipeline import Pipeline\n\nwarnings.filterwarnings('ignore')\nplt.style.use('dark_background')\n\nwith open('configs.json','r') as file:\n    key = json.load(file)['fred_api_key']\n    \nfred = Fred(key)\n\nclass GetData:\n    def __init__(self,ticker,itvl='1mo'):\n        self.folder = 'data'\n        self.ticker = ticker\n        self.interval = itvl\n        self.logger = logging.getLogger(__name__)\n        if not os.path.exists(self.folder):\n            os.makedirs(self.folder)\n            \n    def get_ticker(self):\n        if not os.path.exists(f'{self.folder}/{self.ticker}_OHLC.csv'):\n            try:\n                ticker_data = yf.download(self.ticker,period='max',interval=self.interval,auto_adjust=True,progress=False)\n                ticker_data.columns = ['Open','High','Low','Close','Volume']\n                ticker_data.to_csv(f'{self.folder}/{self.ticker}_OHLC.csv')\n            except Exception as e:\n                self.logger.warning(e)\n                return None\n        else:\n            ticker_data = pd.read_csv(f'{self.folder}/{self.ticker}_OHLC.csv',index_col=0,parse_dates=True)\n        \n        return ticker_data\n                \n    def get_macroeconomics(self,features):\n        merge = []\n        for i in features:\n            if not os.path.exists(f'{self.folder}/{i}.csv'):\n                try:\n                    df = fred.get_series(i)\n                    df.to_csv(f'{self.folder}/{i}.csv')\n                    df.name = i\n                    merge.append(df)\n                except Exception as e:\n                    self.logger.warning(e)\n            else:\n                df = pd.read_csv(f'{self.folder}/{i}.csv',index_col=0,parse_dates=True)\n                merge.append(df)\n        \n        alldata = pd.concat(merge,join='inner',axis=1)\n        return alldata\n    \ndef model(xdata,ydata,tstsize=0.3):\n    try:\n        x = xdata\n        y = np.array(ydata).reshape(-1,1)\n\n        xtrain,xtest,ytrain,ytest = train_test_split(x,y,random_state=0,test_size=tstsize,shuffle=False)\n\n    except Exception as e:\n        print(e)\n        return None,None\n\n    pipe_inputs = [('scaler',StandardScaler()),('poly',PolynomialFeatures(include_bias=False)),('ridge',Ridge())]\n\n    params = {\n        'scaler__with_mean':[True,False],\n        'scaler__with_std':[True,False],\n        'poly__degree':[1,2,3,4],\n        'ridge__alpha':[0.1,1,10,100]\n        }\n\n    pipe = Pipeline(pipe_inputs)\n\n    grid = GridSearchCV(pipe,params,cv=TimeSeriesSplit(n_splits=4))\n\n    grid.fit(xtrain,ytrain)\n\n    print(f'best params: {grid.best_params_}')\n    print(f'best Rsquared Score: {grid.best_score_:.2f}')\n\n    model = grid.best_estimator_\n\n    yhat = grid.predict(xtest)\n\n    return yhat,ytest\n\n\ndef plot_eval(estimate,actual,tickername):\n\n    fig,ax = plt.subplots(2,1,figsize=(10,10))\n    fig.suptitle('Model Evaluation',fontsize=14,fontweight='bold',fontstyle='oblique',y=0.96,x=0.14)\n    ax = ax.ravel()\n\n    ax[0].plot(np.arange(0,len(estimate)),estimate.flatten(),color='royalblue',label='Estimate')\n    ax[0].plot(np.arange(0,len(actual)),actual.flatten(),color='limegreen',label='Actual')\n    ax[0].set_ylabel('Price($)',fontsize=10)\n    ax[0].set_title(f'{tickername} Price Chart',fontsize=10)\n    ax[0].legend(fontsize=6)\n\n    sns.residplot(x=estimate.flatten(),y=actual.flatten(),lowess=True,line_kws=dict(linestyle='dotted',linewidth=1,color='lightgrey'),scatter_kws=dict(s=10,alpha=0.8,color='royalblue'),ax=ax[1])\n    ax[1].set_title('Residuals',fontsize=10)\n\n    for a in ax:\n        a.tick_params(axis='both',labelsize=6)\n        a.set_xlabel('Time(n)',fontsize=8)\n        a.grid(True,alpha=0.2)\n\n    plt.tight_layout()\n    plt.savefig(f'Econs_on_{tickername}.png',dpi=300)\n    fig.show()\n            \n        \n        \nif __name__ == '__main__':\n    ticker = 'SPY'\n    logging.basicConfig(level=logging.WARNING)\n    \n    obj = GetData(ticker)\n    ticker_df = obj.get_ticker()['Close']\n    \n    if ticker_df is not None:\n        feature_df = obj.get_macroeconomics(['CPIAUCSL','PPIACO','PCEPI','UNRATE','UMCSENT','PAYEMS'])\n        startdate = ticker_df.index[0]\n        feature_df = feature_df.loc[(feature_df.index>=startdate)]\n        enddate = feature_df.index[-1] \n        ticker_df = ticker_df.loc[ticker_df.index<=enddate]\n        \n        if len(feature_df) != len(ticker_df):\n            print('Lenght mismatch between features and ticker')\n            execute = False\n        else:\n            execute = True\n            \n        if execute:\n            est,act = model(feature_df,ticker_df)\n            if (est,act) is not None:\n                plot_eval(est,act,ticker)",
   "execution_count": null,
   "outputs": []
  }
 ],
 "metadata": {
  "kernelspec": {
   "name": "python3",
   "display_name": "Python 3",
   "language": "python"
  },
  "language_info": {
   "name": "python",
   "version": "3.10.4",
   "mimetype": "text/x-python",
   "codemirror_mode": {
    "name": "ipython",
    "version": 3
   },
   "pygments_lexer": "ipython3",
   "nbconvert_exporter": "python",
   "file_extension": ".py"
  }
 },
 "nbformat": 4,
 "nbformat_minor": 2
}